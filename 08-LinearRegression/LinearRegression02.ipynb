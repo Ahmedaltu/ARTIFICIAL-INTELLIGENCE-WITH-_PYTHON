{
  "nbformat": 4,
  "nbformat_minor": 0,
  "metadata": {
    "colab": {
      "name": "LinearRegression02.ipynb",
      "provenance": []
    },
    "kernelspec": {
      "name": "python3",
      "display_name": "Python 3"
    },
    "language_info": {
      "name": "python"
    }
  },
  "cells": [
    {
      "cell_type": "code",
      "execution_count": 6,
      "metadata": {
        "id": "BSafxR0XNGD5"
      },
      "outputs": [],
      "source": [
        "import numpy as np\n",
        "import matplotlib.pyplot as plt\n",
        "from sklearn import linear_model"
      ]
    },
    {
      "cell_type": "code",
      "source": [
        "my_data = np.genfromtxt('linreg_data.csv', delimiter=',')\n",
        "xp = my_data[:,0]\n",
        "yp = my_data[:,1]\n",
        "xp = xp.reshape(-1,1)\n",
        "yp = yp.reshape(-1,1)"
      ],
      "metadata": {
        "id": "N2j3OE-MNTDK"
      },
      "execution_count": 7,
      "outputs": []
    },
    {
      "cell_type": "code",
      "source": [
        "regr = linear_model.LinearRegression()\n",
        "regr.fit(xp, yp) # fitting the model=training the model\n",
        "print(regr.coef_,regr.intercept_)"
      ],
      "metadata": {
        "colab": {
          "base_uri": "https://localhost:8080/"
        },
        "id": "Qce0OGrHNTsK",
        "outputId": "9194087a-37a7-4bbf-f6a7-e5e68770435f"
      },
      "execution_count": 8,
      "outputs": [
        {
          "output_type": "stream",
          "name": "stdout",
          "text": [
            "[[2.1387759]] [0.84039871]\n"
          ]
        }
      ]
    },
    {
      "cell_type": "code",
      "source": [
        "xval = np.full((1,1),0.5)\n",
        "yval = regr.predict(xval)\n",
        "print(yval)"
      ],
      "metadata": {
        "colab": {
          "base_uri": "https://localhost:8080/"
        },
        "id": "39VcSyiCNZeI",
        "outputId": "aba70aa0-48c9-44ce-83cd-c801f23e7660"
      },
      "execution_count": 9,
      "outputs": [
        {
          "output_type": "stream",
          "name": "stdout",
          "text": [
            "[[1.90978666]]\n"
          ]
        }
      ]
    },
    {
      "cell_type": "code",
      "source": [
        "xval = np.linspace(-1,2,20).reshape(-1,1)\n",
        "yval = regr.predict(xval)\n",
        "plt.plot(xval,yval) # this plots the line\n",
        "plt.scatter(xp,yp,color=\"red\")\n",
        "plt.show()"
      ],
      "metadata": {
        "colab": {
          "base_uri": "https://localhost:8080/",
          "height": 265
        },
        "id": "7g2Bn9cwNiUG",
        "outputId": "5e2bd20d-6ec6-4aed-f420-dc6847e91da7"
      },
      "execution_count": 10,
      "outputs": [
        {
          "output_type": "display_data",
          "data": {
            "text/plain": [
              "<Figure size 432x288 with 1 Axes>"
            ],
            "image/png": "[encoded data removed]"
          },
          "metadata": {
            "needs_background": "light"
          }
        }
      ]
    },
    {
      "cell_type": "code",
      "source": [
        "from sklearn import metrics\n",
        "yhat = regr.predict(xp)\n",
        "print('Mean Absolute Error:', metrics.mean_absolute_error(yp, yhat))  \n",
        "print('Mean Squared Error:', metrics.mean_squared_error(yp, yhat))  \n",
        "print('Root Mean Squared Error:', np.sqrt(metrics.mean_squared_error(yp, yhat)))\n",
        "print('R2 value:', metrics.r2_score(yp, yhat))"
      ],
      "metadata": {
        "colab": {
          "base_uri": "https://localhost:8080/"
        },
        "id": "r9w4rMVsNqxP",
        "outputId": "3ab7d4eb-310a-4a04-d037-e75ede9e654b"
      },
      "execution_count": 11,
      "outputs": [
        {
          "output_type": "stream",
          "name": "stdout",
          "text": [
            "Mean Absolute Error: 0.19969075618017434\n",
            "Mean Squared Error: 0.06587573535539963\n",
            "Root Mean Squared Error: 0.2566626878909352\n",
            "R2 value: 0.9588798319617569\n"
          ]
        }
      ]
    },
    {
      "cell_type": "code",
      "source": [
        ""
      ],
      "metadata": {
        "id": "cS6FrATpNwWu"
      },
      "execution_count": null,
      "outputs": []
    }
  ]
}
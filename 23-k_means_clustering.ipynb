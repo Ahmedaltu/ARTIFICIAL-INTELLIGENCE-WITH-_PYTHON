{
  "nbformat": 4,
  "nbformat_minor": 0,
  "metadata": {
    "colab": {
      "name": "k-means_clustering.ipynb",
      "provenance": []
    },
    "kernelspec": {
      "name": "python3",
      "display_name": "Python 3"
    },
    "language_info": {
      "name": "python"
    }
  },
  "cells": [
    {
      "cell_type": "markdown",
      "source": [
        "k-means algorithm is very popular clustering algorithm. It works as follows:\n",
        "\n",
        "Choose k centroids of clusters randomly (k must be given)\n",
        "Assign each data point to same cluster as its closest centroid\n",
        "Update centroids to be the means of data points within same cluster\n",
        "Repeat 2 and 3 until no changes occur\n",
        " \n",
        "\n",
        "The algorithm is quite simple and it only needs to compute distances to centroids and means of data points' clusters. Therefore we illustrate the its basic working in python next. Later we will resort to sklearn which readily provides the same algorithm (but with more robust implementation).\n",
        "\n",
        " \n",
        "\n",
        "Start with same sample data, k=3 and random centroids\n",
        "\n"
      ],
      "metadata": {
        "id": "xGUzGEgDIowp"
      }
    },
    {
      "cell_type": "code",
      "execution_count": 4,
      "metadata": {
        "id": "oiEQj1IVGvBd"
      },
      "outputs": [],
      "source": [
        "import pandas as pd\n",
        "import numpy as np\n",
        "import matplotlib.pyplot as plt\n",
        "df = pd.DataFrame({\n",
        "'x': [12, 20, 28, 18, 29, 33, 24, 45, 45, 52, 51, 52, 55, 53, 55, 61, 64, 69, 72],\n",
        "'y': [39, 36, 30, 52, 54, 46, 55, 59, 63, 70, 66, 63, 58, 23, 14, 8, 19, 7, 24]\n",
        "})\n",
        "k = 3\n",
        "cols = {0: 'r', 1: 'g', 2: 'b'}\n",
        "\n",
        "np.random.seed(200)\n",
        "\n",
        "C = np.zeros((k,2),dtype=\"int64\")\n",
        "for i in range(k):\n",
        "    C[i,0] = np.random.randint(0, 80)\n",
        "    C[i,1] = np.random.randint(0, 80)"
      ]
    },
    {
      "cell_type": "code",
      "source": [
        "C"
      ],
      "metadata": {
        "colab": {
          "base_uri": "https://localhost:8080/"
        },
        "id": "ArMu1SjTC2ZZ",
        "outputId": "c0e53bb5-707e-48ed-ee96-4de8e0667f57"
      },
      "execution_count": 5,
      "outputs": [
        {
          "output_type": "execute_result",
          "data": {
            "text/plain": [
              "array([[26, 16],\n",
              "       [68, 42],\n",
              "       [55, 76]])"
            ]
          },
          "metadata": {},
          "execution_count": 5
        }
      ]
    },
    {
      "cell_type": "code",
      "source": [
        "plt.scatter(df['x'], df['y'], color='k')\n",
        "for i in range(k):\n",
        "    plt.scatter(C[i,0],C[i,1],color=cols[i],marker=\"+\")\n",
        "plt.xlim(0, 80)\n",
        "plt.ylim(0, 80)\n",
        "plt.title(\"Initial state\")\n",
        "plt.show()"
      ],
      "metadata": {
        "colab": {
          "base_uri": "https://localhost:8080/",
          "height": 281
        },
        "id": "uC7ozP8QGyHR",
        "outputId": "7a3ab5fc-145c-4497-ee3e-c19fdc809e81"
      },
      "execution_count": 6,
      "outputs": [
        {
          "output_type": "display_data",
          "data": {
            "text/plain": [
              "<Figure size 432x288 with 1 Axes>"
            ],
            "image/png": "[encoded data removed]"
          },
          "metadata": {
            "needs_background": "light"
          }
        }
      ]
    },
    {
      "cell_type": "code",
      "source": [
        "#assigning each data point to a cluster (indicated by closest centroid)\n",
        "def assignment(df,C,cols):\n",
        "    \n",
        "\n",
        "    d0 = np.sqrt((np.array(df['x']) - C[0,0]) ** 2 + (np.array(df['y']) - C[0,1]) ** 2)\n",
        "    d1 = np.sqrt((np.array(df['x']) - C[1,0]) ** 2 + (np.array(df['y']) - C[1,1]) ** 2)\n",
        "    d2 = np.sqrt((np.array(df['x']) - C[2,0]) ** 2 + (np.array(df['y']) - C[2,1]) ** 2)\n",
        "\n",
        "    d = np.vstack((d0,d1,d2))   \n",
        "    #Stack arrays in sequence vertically (row wise).\n",
        "    cl = d.argmin(axis=0)      \n",
        "    #Returns the indices of the minimum values along an axis.(Retutn the index of the minmum value)\n",
        "    #axis=0 means return the index of minmum value in each column\n",
        "    #when axis argument not given, function will return the index of the minmum value in all matrix ( as 1-D array)\n",
        "    df['closest'] = cl\n",
        "\n",
        "    df['color'] = df['closest'].map(lambda x: cols[x])\n",
        "    return df"
      ],
      "metadata": {
        "id": "T1NbTjvUGz-c"
      },
      "execution_count": 7,
      "outputs": []
    },
    {
      "cell_type": "markdown",
      "source": [
        "pandas dataframe containing x and y coordinates is expanded by closest cluster index (0,1,2) and color representing that cluster.\n",
        "\n",
        "\n",
        "  \n",
        "In main program we assign data points once to clusters and plot the results."
      ],
      "metadata": {
        "id": "hxacuVpJQNGL"
      }
    },
    {
      "cell_type": "code",
      "source": [
        "df = assignment(df,C,cols)\n",
        "print(df)\n",
        "\n",
        "plt.scatter(df['x'], df['y'], color=df['color'], alpha=0.5, edgecolor='k')\n",
        "for i in range(k):\n",
        "    plt.scatter(C[i,0],C[i,1], color=cols[i],marker=\"+\")\n",
        "plt.xlim(0, 80)\n",
        "plt.ylim(0, 80)\n",
        "plt.title(\"colors assigned\")\n",
        "plt.show()"
      ],
      "metadata": {
        "colab": {
          "base_uri": "https://localhost:8080/",
          "height": 628
        },
        "id": "9xECuszsHn3U",
        "outputId": "1e49d560-5db3-419d-e00e-f730b8b9679b"
      },
      "execution_count": 8,
      "outputs": [
        {
          "output_type": "stream",
          "name": "stdout",
          "text": [
            "     x   y  closest color\n",
            "0   12  39        0     r\n",
            "1   20  36        0     r\n",
            "2   28  30        0     r\n",
            "3   18  52        0     r\n",
            "4   29  54        2     b\n",
            "5   33  46        0     r\n",
            "6   24  55        2     b\n",
            "7   45  59        2     b\n",
            "8   45  63        2     b\n",
            "9   52  70        2     b\n",
            "10  51  66        2     b\n",
            "11  52  63        2     b\n",
            "12  55  58        2     b\n",
            "13  53  23        1     g\n",
            "14  55  14        0     r\n",
            "15  61   8        1     g\n",
            "16  64  19        1     g\n",
            "17  69   7        1     g\n",
            "18  72  24        1     g\n"
          ]
        },
        {
          "output_type": "display_data",
          "data": {
            "text/plain": [
              "<Figure size 432x288 with 1 Axes>"
            ],
            "image/png": "[encoded data removed]"
          },
          "metadata": {
            "needs_background": "light"
          }
        }
      ]
    },
    {
      "cell_type": "markdown",
      "source": [
        ""
      ],
      "metadata": {
        "id": "TwKR1jVkRHpM"
      }
    },
    {
      "cell_type": "markdown",
      "source": [
        "Note one red dot near the green ones and two blue dots near the red ones. Next we update the centroids to be in the mean positions of their respective clusters. We do that also inside a helper function."
      ],
      "metadata": {
        "id": "ZhAoCbadQkjX"
      }
    },
    {
      "cell_type": "code",
      "source": [
        "def update(C):\n",
        "    k = np.shape(C)[0]\n",
        "    for i in range(k):\n",
        "        C[i,0] = np.mean(df[df['closest'] == i]['x'])\n",
        "        C[i,1] = np.mean(df[df['closest'] == i]['y'])\n",
        "    return C"
      ],
      "metadata": {
        "id": "fzoE2covHrZB"
      },
      "execution_count": 16,
      "outputs": []
    },
    {
      "cell_type": "code",
      "source": [
        "C = update(C)\n",
        "\n",
        "plt.scatter(df['x'], df['y'], color=df['color'], alpha=0.5, edgecolor='k')\n",
        "for i in range(k):\n",
        "    plt.scatter(C[i,0],C[i,1], color=cols[i],marker=\"+\")\n",
        "plt.xlim(0, 80)\n",
        "plt.ylim(0, 80)\n",
        "plt.title(\"centroids updated\")\n",
        "plt.show()"
      ],
      "metadata": {
        "colab": {
          "base_uri": "https://localhost:8080/",
          "height": 281
        },
        "id": "1wtmxKgNHt4o",
        "outputId": "49c669ed-3509-4d38-899a-ea5980460fa4"
      },
      "execution_count": 17,
      "outputs": [
        {
          "output_type": "display_data",
          "data": {
            "text/plain": [
              "<Figure size 432x288 with 1 Axes>"
            ],
            "image/png": "[encoded data removed]"
          },
          "metadata": {
            "needs_background": "light"
          }
        }
      ]
    },
    {
      "cell_type": "code",
      "source": [
        "df = assignment(df, C,cols)\n",
        "print(df)\n",
        "\n",
        "# Plot results\n",
        "plt.scatter(df['x'], df['y'], color=df['color'], alpha=0.5, edgecolor='k')\n",
        "for i in range(k):\n",
        "    plt.scatter(C[i,0],C[i,1], color=cols[i],marker=\"+\")\n",
        "plt.xlim(0, 80)\n",
        "plt.ylim(0, 80)\n",
        "plt.title(\"colors assigned\")\n",
        "plt.show()"
      ],
      "metadata": {
        "colab": {
          "base_uri": "https://localhost:8080/",
          "height": 628
        },
        "id": "3GFKT5p0HwCF",
        "outputId": "487d2acf-ab88-4607-8bf6-082501588433"
      },
      "execution_count": 11,
      "outputs": [
        {
          "output_type": "stream",
          "name": "stdout",
          "text": [
            "     x   y  closest color\n",
            "0   12  39        0     r\n",
            "1   20  36        0     r\n",
            "2   28  30        0     r\n",
            "3   18  52        0     r\n",
            "4   29  54        2     b\n",
            "5   33  46        0     r\n",
            "6   24  55        0     r\n",
            "7   45  59        2     b\n",
            "8   45  63        2     b\n",
            "9   52  70        2     b\n",
            "10  51  66        2     b\n",
            "11  52  63        2     b\n",
            "12  55  58        2     b\n",
            "13  53  23        1     g\n",
            "14  55  14        1     g\n",
            "15  61   8        1     g\n",
            "16  64  19        1     g\n",
            "17  69   7        1     g\n",
            "18  72  24        1     g\n"
          ]
        },
        {
          "output_type": "display_data",
          "data": {
            "text/plain": [
              "<Figure size 432x288 with 1 Axes>"
            ],
            "image/png": "[encoded data removed]"
          },
          "metadata": {
            "needs_background": "light"
          }
        }
      ]
    }
  ]
}
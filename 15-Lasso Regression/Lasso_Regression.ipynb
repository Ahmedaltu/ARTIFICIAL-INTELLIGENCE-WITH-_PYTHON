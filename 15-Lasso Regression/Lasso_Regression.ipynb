{
  "nbformat": 4,
  "nbformat_minor": 0,
  "metadata": {
    "colab": {
      "name": "Lasso_Regression.ipynb",
      "provenance": []
    },
    "kernelspec": {
      "name": "python3",
      "display_name": "Python 3"
    },
    "language_info": {
      "name": "python"
    }
  },
  "cells": [
    {
      "cell_type": "markdown",
      "source": [
        "LASSO stands for \"Least Absolute Shrinkage and Selection Operator\"."
      ],
      "metadata": {
        "id": "GvMOUTrOBR4E"
      }
    },
    {
      "cell_type": "code",
      "execution_count": 1,
      "metadata": {
        "id": "J-3gOyF0ApO8"
      },
      "outputs": [],
      "source": [
        "import numpy as np\n",
        "import pandas as pd\n",
        "from sklearn import linear_model\n",
        "from sklearn.metrics import mean_squared_error\n",
        "from sklearn.model_selection import train_test_split\n",
        "import matplotlib.pyplot as plt\n"
      ]
    },
    {
      "cell_type": "code",
      "source": [
        "df = pd.read_csv('diamonds.csv')\n",
        "print(df.head())"
      ],
      "metadata": {
        "colab": {
          "base_uri": "https://localhost:8080/"
        },
        "id": "lqzKi0DtA7MV",
        "outputId": "c82e6888-cc74-4a0c-991f-7818bbdd6235"
      },
      "execution_count": 4,
      "outputs": [
        {
          "output_type": "stream",
          "name": "stdout",
          "text": [
            "   Unnamed: 0  carat      cut color clarity  depth  table  price     x     y  \\\n",
            "0           1   0.23    Ideal     E     SI2   61.5   55.0    326  3.95  3.98   \n",
            "1           2   0.21  Premium     E     SI1   59.8   61.0    326  3.89  3.84   \n",
            "2           3   0.23     Good     E     VS1   56.9   65.0    327  4.05  4.07   \n",
            "3           4   0.29  Premium     I     VS2   62.4   58.0    334  4.20  4.23   \n",
            "4           5   0.31     Good     J     SI2   63.3   58.0    335  4.34  4.35   \n",
            "\n",
            "      z  \n",
            "0  2.43  \n",
            "1  2.31  \n",
            "2  2.31  \n",
            "3  2.63  \n",
            "4  2.75  \n"
          ]
        }
      ]
    },
    {
      "cell_type": "code",
      "source": [
        "X = df[['carat', 'depth', 'table', 'x', 'y', 'z']]\n",
        "y = df[['price']]"
      ],
      "metadata": {
        "id": "1zl2wqNrA7-O"
      },
      "execution_count": 5,
      "outputs": []
    },
    {
      "cell_type": "code",
      "source": [
        "X_train, X_test, y_train, y_test = train_test_split(X, y, test_size=0.25, random_state=101)"
      ],
      "metadata": {
        "id": "BshVmdlXEYNk"
      },
      "execution_count": 6,
      "outputs": []
    },
    {
      "cell_type": "markdown",
      "source": [
        "where α>0 controls the weight of the added penalty term. Increasing α will decrese the slope b and it is actually allowed to become equal to zero. In ridge regression the slope only approaches, but never equals, zero."
      ],
      "metadata": {
        "id": "WABG_BNXEtNw"
      }
    },
    {
      "cell_type": "code",
      "source": [
        "alphas = [0.1,0.2,0.3,0.4,0.5,1,2,3,4,5,6,7,8]\n",
        "scores = []\n",
        "for alp in alphas:\n",
        "    lasso = linear_model.Lasso(alpha=alp)\n",
        "    lasso.fit(X_train, y_train)\n",
        "    print(lasso.coef_.round(2))\n",
        "    sc = lasso.score(X_test, y_test)  # =R^2\n",
        "    scores.append(sc)\n",
        "    print(\"alpha=\",alp,\" lasso score:\", sc)"
      ],
      "metadata": {
        "colab": {
          "base_uri": "https://localhost:8080/"
        },
        "id": "ogGrWm31EoZR",
        "outputId": "ea6d4ff1-dd99-4ac8-f13b-d4410e963faa"
      },
      "execution_count": 10,
      "outputs": [
        {
          "output_type": "stream",
          "name": "stdout",
          "text": [
            "[10561.29  -198.53  -100.89 -1481.66   272.52    58.67]\n",
            "alpha= 0.1  lasso score: 0.8615203383830394\n",
            "[10548.86  -196.14  -100.91 -1449.32   267.66    22.32]\n",
            "alpha= 0.2  lasso score: 0.8615682320291203\n",
            "[10535.48  -194.56  -100.92 -1423.18   260.75     0.  ]\n",
            "alpha= 0.3  lasso score: 0.8616132009047861\n",
            "[10522.45  -194.3   -100.91 -1408.7    251.64     0.  ]\n",
            "alpha= 0.4  lasso score: 0.8616633895642147\n",
            "[10509.76  -194.04  -100.9  -1394.57   242.75     0.  ]\n",
            "alpha= 0.5  lasso score: 0.8617102478677708\n",
            "[10444.78  -192.71  -100.84 -1323.39   198.33    -0.  ]\n",
            "alpha= 1  lasso score: 0.861910447248714\n",
            "[10313.86  -190.04  -100.73 -1180.73   109.61    -0.  ]\n",
            "alpha= 2  lasso score: 0.8621457045236209\n",
            "[10181.42  -187.31  -100.6  -1043.92    27.31    -0.  ]\n",
            "alpha= 3  lasso score: 0.862157268211359\n",
            "[10043.78  -184.25  -100.23  -959.4      0.      -0.  ]\n",
            "alpha= 4  lasso score: 0.8620124327806014\n",
            "[9906.94 -181.09  -99.75 -902.34    0.     -0.  ]\n",
            "alpha= 5  lasso score: 0.8618377466753648\n",
            "[9769.61 -177.93  -99.27 -845.07    0.     -0.  ]\n",
            "alpha= 6  lasso score: 0.8616394221937613\n",
            "[9635.83 -174.83  -98.79 -789.26   -0.     -0.  ]\n",
            "alpha= 7  lasso score: 0.8614240109543027\n",
            "[9502.16 -171.72  -98.31 -733.51   -0.     -0.  ]\n",
            "alpha= 8  lasso score: 0.8611869109198764\n"
          ]
        }
      ]
    },
    {
      "cell_type": "code",
      "source": [
        "plt.plot(alphas, scores)\n",
        "plt.xlabel(\"alpha\")\n",
        "plt.ylabel(\"R2 score\")\n",
        "plt.show()"
      ],
      "metadata": {
        "colab": {
          "base_uri": "https://localhost:8080/",
          "height": 282
        },
        "id": "CoppGFn3EwFf",
        "outputId": "5cc24fd9-61e0-4124-b3fa-c477701b6d9f"
      },
      "execution_count": 11,
      "outputs": [
        {
          "output_type": "display_data",
          "data": {
            "text/plain": [
              "<Figure size 432x288 with 1 Axes>"
            ],
            "image/png": "[encoded data removed]"
          },
          "metadata": {
            "needs_background": "light"
          }
        }
      ]
    }
  ]
}
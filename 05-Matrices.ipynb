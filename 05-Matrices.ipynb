{
  "nbformat": 4,
  "nbformat_minor": 0,
  "metadata": {
    "colab": {
      "name": "Matrices.ipynb",
      "provenance": [],
      "collapsed_sections": []
    },
    "kernelspec": {
      "name": "python3",
      "display_name": "Python 3"
    },
    "language_info": {
      "name": "python"
    }
  },
  "cells": [
    {
      "cell_type": "markdown",
      "source": [
        "Numpy and Arrays"
      ],
      "metadata": {
        "id": "XwJ_0k7EwM3i"
      }
    },
    {
      "cell_type": "code",
      "execution_count": 2,
      "metadata": {
        "colab": {
          "base_uri": "https://localhost:8080/"
        },
        "id": "4wdtsVmaZNvs",
        "outputId": "5c496b0a-1aaa-4ede-82f4-f9384efc497e"
      },
      "outputs": [
        {
          "output_type": "stream",
          "name": "stdout",
          "text": [
            "[0. 0. 0. 0. 0.]\n"
          ]
        }
      ],
      "source": [
        "from re import S\n",
        "import numpy as np\n",
        "\n",
        "z = np.zeros(5)\n",
        "\n",
        "print(z)\n"
      ]
    },
    {
      "cell_type": "code",
      "source": [
        "np.shape(z)"
      ],
      "metadata": {
        "colab": {
          "base_uri": "https://localhost:8080/"
        },
        "id": "b7xZWwBCZQKA",
        "outputId": "7734cd28-ae3d-44b6-ee96-53e57e84d4a5"
      },
      "execution_count": 3,
      "outputs": [
        {
          "output_type": "execute_result",
          "data": {
            "text/plain": [
              "(5,)"
            ]
          },
          "metadata": {},
          "execution_count": 3
        }
      ]
    },
    {
      "cell_type": "code",
      "source": [
        "z2= np.zeros((4,5))\n",
        "print(z2)"
      ],
      "metadata": {
        "colab": {
          "base_uri": "https://localhost:8080/"
        },
        "id": "L0HpagqjZfe3",
        "outputId": "5c401eaa-f674-49df-99fd-4e0923528eda"
      },
      "execution_count": 4,
      "outputs": [
        {
          "output_type": "stream",
          "name": "stdout",
          "text": [
            "[[0. 0. 0. 0. 0.]\n",
            " [0. 0. 0. 0. 0.]\n",
            " [0. 0. 0. 0. 0.]\n",
            " [0. 0. 0. 0. 0.]]\n"
          ]
        }
      ]
    },
    {
      "cell_type": "code",
      "source": [
        "f=np.full((7,8),11)\n",
        "print(f)"
      ],
      "metadata": {
        "colab": {
          "base_uri": "https://localhost:8080/"
        },
        "id": "BMLOKa4RZm_H",
        "outputId": "fefa7485-ccaa-423f-b804-fd1d220bdc81"
      },
      "execution_count": 5,
      "outputs": [
        {
          "output_type": "stream",
          "name": "stdout",
          "text": [
            "[[11 11 11 11 11 11 11 11]\n",
            " [11 11 11 11 11 11 11 11]\n",
            " [11 11 11 11 11 11 11 11]\n",
            " [11 11 11 11 11 11 11 11]\n",
            " [11 11 11 11 11 11 11 11]\n",
            " [11 11 11 11 11 11 11 11]\n",
            " [11 11 11 11 11 11 11 11]]\n"
          ]
        }
      ]
    },
    {
      "cell_type": "code",
      "source": [
        "np.shape(f)"
      ],
      "metadata": {
        "colab": {
          "base_uri": "https://localhost:8080/"
        },
        "id": "LTjuDv0DcJwn",
        "outputId": "54000c67-caa8-4f0a-955d-e582808385eb"
      },
      "execution_count": 6,
      "outputs": [
        {
          "output_type": "execute_result",
          "data": {
            "text/plain": [
              "(7, 8)"
            ]
          },
          "metadata": {},
          "execution_count": 6
        }
      ]
    },
    {
      "cell_type": "markdown",
      "source": [
        ""
      ],
      "metadata": {
        "id": "tvMX1lweBnxf"
      }
    },
    {
      "cell_type": "code",
      "source": [
        "x=np.linspace(0,5,10)\n",
        "print(x)"
      ],
      "metadata": {
        "colab": {
          "base_uri": "https://localhost:8080/"
        },
        "id": "snOPgZuNcQPH",
        "outputId": "a5adc0cb-df2b-4753-e01d-5d9ce7c0958a"
      },
      "execution_count": 7,
      "outputs": [
        {
          "output_type": "stream",
          "name": "stdout",
          "text": [
            "[0.         0.55555556 1.11111111 1.66666667 2.22222222 2.77777778\n",
            " 3.33333333 3.88888889 4.44444444 5.        ]\n"
          ]
        }
      ]
    },
    {
      "cell_type": "code",
      "source": [
        "x2=np.arange(0,5,0.2)\n",
        "print(x2)"
      ],
      "metadata": {
        "colab": {
          "base_uri": "https://localhost:8080/"
        },
        "id": "d9WPO5Xycb_S",
        "outputId": "650178ac-18af-4d02-c58f-6a343d8b93fb"
      },
      "execution_count": 8,
      "outputs": [
        {
          "output_type": "stream",
          "name": "stdout",
          "text": [
            "[0.  0.2 0.4 0.6 0.8 1.  1.2 1.4 1.6 1.8 2.  2.2 2.4 2.6 2.8 3.  3.2 3.4\n",
            " 3.6 3.8 4.  4.2 4.4 4.6 4.8]\n"
          ]
        }
      ]
    },
    {
      "cell_type": "code",
      "source": [
        "a = 1\n",
        "b = 6\n",
        "amount = 50\n",
        "nopat = np.random.randint(a,b+1,amount)\n",
        "print(nopat)"
      ],
      "metadata": {
        "colab": {
          "base_uri": "https://localhost:8080/"
        },
        "id": "efJ-CyTkCVMw",
        "outputId": "3cd402e6-07e8-45c7-e34d-66a6145ce432"
      },
      "execution_count": 9,
      "outputs": [
        {
          "output_type": "stream",
          "name": "stdout",
          "text": [
            "[2 6 2 4 3 1 6 3 2 4 6 6 1 6 5 6 4 6 2 4 4 5 5 6 6 3 6 2 2 6 2 1 4 1 1 3 3\n",
            " 1 1 2 2 1 4 6 5 4 3 1 2 3]\n"
          ]
        }
      ]
    },
    {
      "cell_type": "code",
      "source": [
        "xx = np.random.randn(10)\n",
        "print(xx)"
      ],
      "metadata": {
        "colab": {
          "base_uri": "https://localhost:8080/"
        },
        "id": "E-eNbBbhEZGE",
        "outputId": "7d9c5660-eb5b-417e-e714-492cda3a81db"
      },
      "execution_count": 10,
      "outputs": [
        {
          "output_type": "stream",
          "name": "stdout",
          "text": [
            "[-0.02647892 -0.22019343 -1.52543624 -0.69358163  0.87768593  1.12949845\n",
            "  0.07023884 -1.69713736  0.43004979 -1.34446935]\n"
          ]
        }
      ]
    },
    {
      "cell_type": "code",
      "source": [
        "xx.ndim"
      ],
      "metadata": {
        "colab": {
          "base_uri": "https://localhost:8080/"
        },
        "id": "eXU-5FFrLTUk",
        "outputId": "886a408e-53e5-4cba-b6f0-4751cf0b81ed"
      },
      "execution_count": 11,
      "outputs": [
        {
          "output_type": "execute_result",
          "data": {
            "text/plain": [
              "1"
            ]
          },
          "metadata": {},
          "execution_count": 11
        }
      ]
    },
    {
      "cell_type": "code",
      "source": [
        "xx.size"
      ],
      "metadata": {
        "colab": {
          "base_uri": "https://localhost:8080/"
        },
        "id": "XElX-VU7LX26",
        "outputId": "f5b79246-c0e6-486c-fa29-1c133cee9abd"
      },
      "execution_count": 12,
      "outputs": [
        {
          "output_type": "execute_result",
          "data": {
            "text/plain": [
              "10"
            ]
          },
          "metadata": {},
          "execution_count": 12
        }
      ]
    },
    {
      "cell_type": "markdown",
      "source": [
        ""
      ],
      "metadata": {
        "id": "8Av98CmGWOd4"
      }
    },
    {
      "cell_type": "code",
      "source": [
        "xx = np.random.random(10)\n",
        "print(xx)"
      ],
      "metadata": {
        "colab": {
          "base_uri": "https://localhost:8080/"
        },
        "id": "B8Z_t0vbFqcS",
        "outputId": "57fb68f3-f075-475e-a12f-4ae7c99fa3f0"
      },
      "execution_count": 13,
      "outputs": [
        {
          "output_type": "stream",
          "name": "stdout",
          "text": [
            "[0.77701278 0.52136136 0.78826552 0.54449276 0.86303875 0.74896886\n",
            " 0.77440781 0.14625022 0.6394465  0.08260136]\n"
          ]
        }
      ]
    },
    {
      "cell_type": "markdown",
      "source": [
        ""
      ],
      "metadata": {
        "id": "cWUF6G3eMCPE"
      }
    },
    {
      "cell_type": "code",
      "source": [
        "#data = np.genfromtext(\"data.csv\",delimeter=\",\",skip_header=1)"
      ],
      "metadata": {
        "id": "oBTKhhiSGPjy"
      },
      "execution_count": 14,
      "outputs": []
    },
    {
      "cell_type": "markdown",
      "source": [
        "Cutting Matrices (indexing)"
      ],
      "metadata": {
        "id": "kBiHQEz7wE0h"
      }
    },
    {
      "cell_type": "code",
      "source": [
        "A = np.array([1,2,3,4,5,6,7,8,9,10,11,12])\n",
        "print(A)\n",
        "np.shape(A)\n",
        "A.reshape(2,3,2)\n",
        "print(A)"
      ],
      "metadata": {
        "colab": {
          "base_uri": "https://localhost:8080/"
        },
        "id": "xbbIuQskMNXe",
        "outputId": "a6d281fb-40e5-455f-8b5a-93eb4ec5ab39"
      },
      "execution_count": 15,
      "outputs": [
        {
          "output_type": "stream",
          "name": "stdout",
          "text": [
            "[ 1  2  3  4  5  6  7  8  9 10 11 12]\n",
            "[ 1  2  3  4  5  6  7  8  9 10 11 12]\n"
          ]
        }
      ]
    },
    {
      "cell_type": "markdown",
      "source": [
        ""
      ],
      "metadata": {
        "id": "lyIyIbBKwKlW"
      }
    },
    {
      "cell_type": "code",
      "source": [
        "A = np.repeat([[1,2,3]],4,axis=0)\n",
        "print(A)"
      ],
      "metadata": {
        "colab": {
          "base_uri": "https://localhost:8080/"
        },
        "id": "O6jxnFS5NF5H",
        "outputId": "51797f31-cb8f-43b9-9296-59dbb37f6d17"
      },
      "execution_count": 16,
      "outputs": [
        {
          "output_type": "stream",
          "name": "stdout",
          "text": [
            "[[1 2 3]\n",
            " [1 2 3]\n",
            " [1 2 3]\n",
            " [1 2 3]]\n"
          ]
        }
      ]
    },
    {
      "cell_type": "code",
      "source": [
        "B = np.repeat([[1],[2],[3]],3,axis=1)\n",
        "print(B)"
      ],
      "metadata": {
        "colab": {
          "base_uri": "https://localhost:8080/"
        },
        "id": "-REH1EjfUuPz",
        "outputId": "2c548a70-58a3-485f-e2af-58b815518189"
      },
      "execution_count": 17,
      "outputs": [
        {
          "output_type": "stream",
          "name": "stdout",
          "text": [
            "[[1 1 1]\n",
            " [2 2 2]\n",
            " [3 3 3]]\n"
          ]
        }
      ]
    },
    {
      "cell_type": "code",
      "source": [
        "A = np.array([[1,2,3],[4,5,6]])\n",
        "print(A)"
      ],
      "metadata": {
        "colab": {
          "base_uri": "https://localhost:8080/"
        },
        "id": "rG4Ch_7mk6NT",
        "outputId": "58f0b596-71ea-4b59-ef22-b150ccca8951"
      },
      "execution_count": 18,
      "outputs": [
        {
          "output_type": "stream",
          "name": "stdout",
          "text": [
            "[[1 2 3]\n",
            " [4 5 6]]\n"
          ]
        }
      ]
    },
    {
      "cell_type": "code",
      "source": [
        "print(A[0,0])\n",
        "print(A[0,1])"
      ],
      "metadata": {
        "colab": {
          "base_uri": "https://localhost:8080/"
        },
        "id": "o_3ZU8WalR6Z",
        "outputId": "b91a80b8-adfa-4498-dc0d-50e512d57336"
      },
      "execution_count": 19,
      "outputs": [
        {
          "output_type": "stream",
          "name": "stdout",
          "text": [
            "1\n",
            "2\n"
          ]
        }
      ]
    },
    {
      "cell_type": "code",
      "source": [
        "A[:,0]"
      ],
      "metadata": {
        "colab": {
          "base_uri": "https://localhost:8080/"
        },
        "id": "yBFXloIJlZC0",
        "outputId": "ddce525e-a9e9-47d7-b18f-f8666d62258d"
      },
      "execution_count": 20,
      "outputs": [
        {
          "output_type": "execute_result",
          "data": {
            "text/plain": [
              "array([1, 4])"
            ]
          },
          "metadata": {},
          "execution_count": 20
        }
      ]
    },
    {
      "cell_type": "code",
      "source": [
        "A[0,:]"
      ],
      "metadata": {
        "colab": {
          "base_uri": "https://localhost:8080/"
        },
        "id": "ESEVbYaulcyn",
        "outputId": "c5cadff1-f2b9-4728-c331-b977e8347301"
      },
      "execution_count": 21,
      "outputs": [
        {
          "output_type": "execute_result",
          "data": {
            "text/plain": [
              "array([1, 2, 3])"
            ]
          },
          "metadata": {},
          "execution_count": 21
        }
      ]
    },
    {
      "cell_type": "code",
      "source": [
        "new = np.vstack((A,A))\n",
        "print(new)"
      ],
      "metadata": {
        "colab": {
          "base_uri": "https://localhost:8080/"
        },
        "id": "KHtd0hcAnwXn",
        "outputId": "09292535-4add-43df-f167-15fb05fd97ab"
      },
      "execution_count": 22,
      "outputs": [
        {
          "output_type": "stream",
          "name": "stdout",
          "text": [
            "[[1 2 3]\n",
            " [4 5 6]\n",
            " [1 2 3]\n",
            " [4 5 6]]\n"
          ]
        }
      ]
    },
    {
      "cell_type": "code",
      "source": [
        "new2 = np.hstack((A,A))\n",
        "print(new2)"
      ],
      "metadata": {
        "colab": {
          "base_uri": "https://localhost:8080/"
        },
        "id": "leZapOiwn7Lk",
        "outputId": "b2930984-6d8d-4420-adf3-d041b5429894"
      },
      "execution_count": 23,
      "outputs": [
        {
          "output_type": "stream",
          "name": "stdout",
          "text": [
            "[[1 2 3 1 2 3]\n",
            " [4 5 6 4 5 6]]\n"
          ]
        }
      ]
    },
    {
      "cell_type": "code",
      "source": [
        "B = np.delete(A,[0],0)\n",
        "\n",
        "print(B)\n"
      ],
      "metadata": {
        "colab": {
          "base_uri": "https://localhost:8080/"
        },
        "id": "MPUzWTPioKrT",
        "outputId": "d5aea6e9-03e6-4d51-c742-f1376404f316"
      },
      "execution_count": 24,
      "outputs": [
        {
          "output_type": "stream",
          "name": "stdout",
          "text": [
            "[[4 5 6]]\n"
          ]
        }
      ]
    },
    {
      "cell_type": "code",
      "source": [
        "C = np.delete(A,[1],1)\n",
        "print(C)"
      ],
      "metadata": {
        "colab": {
          "base_uri": "https://localhost:8080/"
        },
        "id": "5o2CKvTJoZfk",
        "outputId": "9144f723-d810-457e-a0c6-54f3f965c9ba"
      },
      "execution_count": 25,
      "outputs": [
        {
          "output_type": "stream",
          "name": "stdout",
          "text": [
            "[[1 3]\n",
            " [4 6]]\n"
          ]
        }
      ]
    },
    {
      "cell_type": "code",
      "source": [
        "A = np.array([1,2,3,4,5,6])\n",
        "print(A)\n",
        "A = A.reshape(2,3)\n",
        "print(A)\n",
        "n,m = np.shape(A)\n",
        "for i in range(n):\n",
        "    print(\"Row\",i,\"on\",A[i,:])"
      ],
      "metadata": {
        "colab": {
          "base_uri": "https://localhost:8080/"
        },
        "id": "ZoN8ec57qNCY",
        "outputId": "d89e350a-836b-4f4b-b498-0dc93d381aa8"
      },
      "execution_count": 26,
      "outputs": [
        {
          "output_type": "stream",
          "name": "stdout",
          "text": [
            "[1 2 3 4 5 6]\n",
            "[[1 2 3]\n",
            " [4 5 6]]\n",
            "Row 0 on [1 2 3]\n",
            "Row 1 on [4 5 6]\n"
          ]
        }
      ]
    },
    {
      "cell_type": "code",
      "source": [
        "for j in range(m): \n",
        "    print(\"Column\",j,\"on\",A[:,j])"
      ],
      "metadata": {
        "colab": {
          "base_uri": "https://localhost:8080/"
        },
        "id": "ReJLB3-TqiOA",
        "outputId": "26049e8d-3e7e-4b72-84af-fc9c70ff148e"
      },
      "execution_count": 27,
      "outputs": [
        {
          "output_type": "stream",
          "name": "stdout",
          "text": [
            "Column 0 on [1 4]\n",
            "Column 1 on [2 5]\n",
            "Column 2 on [3 6]\n"
          ]
        }
      ]
    },
    {
      "cell_type": "code",
      "source": [
        "for i in range(n):\n",
        "    for j in range(m):\n",
        "        print(\"Element\",i,j,\"on\",A[i,j])"
      ],
      "metadata": {
        "colab": {
          "base_uri": "https://localhost:8080/"
        },
        "id": "yNbqULewqnnd",
        "outputId": "0be1b302-637e-45b5-c47e-9ef8423325d7"
      },
      "execution_count": 28,
      "outputs": [
        {
          "output_type": "stream",
          "name": "stdout",
          "text": [
            "Element 0 0 on 1\n",
            "Element 0 1 on 2\n",
            "Element 0 2 on 3\n",
            "Element 1 0 on 4\n",
            "Element 1 1 on 5\n",
            "Element 1 2 on 6\n"
          ]
        }
      ]
    },
    {
      "cell_type": "markdown",
      "source": [
        ""
      ],
      "metadata": {
        "id": "DrtZBFdyqnc2"
      }
    },
    {
      "cell_type": "code",
      "source": [
        "for a in np.nditer(A):\n",
        "    print(a)"
      ],
      "metadata": {
        "colab": {
          "base_uri": "https://localhost:8080/"
        },
        "id": "oY4Hnu7Wq6iD",
        "outputId": "104445b4-3562-4076-a795-66394c794cf0"
      },
      "execution_count": 29,
      "outputs": [
        {
          "output_type": "stream",
          "name": "stdout",
          "text": [
            "1\n",
            "2\n",
            "3\n",
            "4\n",
            "5\n",
            "6\n"
          ]
        }
      ]
    },
    {
      "cell_type": "markdown",
      "source": [
        "Calculations with Matrices\n"
      ],
      "metadata": {
        "id": "aVcc4mUCv1vV"
      }
    },
    {
      "cell_type": "markdown",
      "source": [
        ""
      ],
      "metadata": {
        "id": "diLC6-lBMMKb"
      }
    },
    {
      "cell_type": "code",
      "source": [
        "A = np.array([[1,2],[3,4]])\n",
        "B = np.array([[3,9],[4,-1]])\n",
        "A+B\n"
      ],
      "metadata": {
        "colab": {
          "base_uri": "https://localhost:8080/"
        },
        "id": "BHKIHsiVv4Q-",
        "outputId": "f129af2e-a2b9-4628-fee2-606d937a24d2"
      },
      "execution_count": 30,
      "outputs": [
        {
          "output_type": "execute_result",
          "data": {
            "text/plain": [
              "array([[ 4, 11],\n",
              "       [ 7,  3]])"
            ]
          },
          "metadata": {},
          "execution_count": 30
        }
      ]
    },
    {
      "cell_type": "code",
      "source": [
        "A-B"
      ],
      "metadata": {
        "colab": {
          "base_uri": "https://localhost:8080/"
        },
        "id": "fl3lME9Zv5zb",
        "outputId": "b509f16f-8681-41d3-d2fb-0a4da00d24a3"
      },
      "execution_count": 31,
      "outputs": [
        {
          "output_type": "execute_result",
          "data": {
            "text/plain": [
              "array([[-2, -7],\n",
              "       [-1,  5]])"
            ]
          },
          "metadata": {},
          "execution_count": 31
        }
      ]
    },
    {
      "cell_type": "code",
      "source": [
        "A*B"
      ],
      "metadata": {
        "colab": {
          "base_uri": "https://localhost:8080/"
        },
        "id": "VWidzRC9waC9",
        "outputId": "d557246f-fe44-410c-f98e-8e1d57c43e9f"
      },
      "execution_count": 32,
      "outputs": [
        {
          "output_type": "execute_result",
          "data": {
            "text/plain": [
              "array([[ 3, 18],\n",
              "       [12, -4]])"
            ]
          },
          "metadata": {},
          "execution_count": 32
        }
      ]
    },
    {
      "cell_type": "code",
      "source": [
        "A/B"
      ],
      "metadata": {
        "colab": {
          "base_uri": "https://localhost:8080/"
        },
        "id": "TfK1YTX5waq3",
        "outputId": "f48c4b2d-ee54-41bd-899c-51a6f52daf44"
      },
      "execution_count": 33,
      "outputs": [
        {
          "output_type": "execute_result",
          "data": {
            "text/plain": [
              "array([[ 0.33333333,  0.22222222],\n",
              "       [ 0.75      , -4.        ]])"
            ]
          },
          "metadata": {},
          "execution_count": 33
        }
      ]
    },
    {
      "cell_type": "code",
      "source": [
        "A @ B"
      ],
      "metadata": {
        "id": "nHbuh3ycwck1",
        "colab": {
          "base_uri": "https://localhost:8080/"
        },
        "outputId": "b9bb8ca1-e3ff-4958-a490-54429bcc2971"
      },
      "execution_count": 34,
      "outputs": [
        {
          "output_type": "execute_result",
          "data": {
            "text/plain": [
              "array([[11,  7],\n",
              "       [25, 23]])"
            ]
          },
          "metadata": {},
          "execution_count": 34
        }
      ]
    },
    {
      "cell_type": "code",
      "source": [
        "A.dot(B)\n",
        "#np.matmul(A,B)"
      ],
      "metadata": {
        "colab": {
          "base_uri": "https://localhost:8080/"
        },
        "id": "U7K86WuI16AG",
        "outputId": "e6355728-488d-4099-8ee3-2d278fd7a3f3"
      },
      "execution_count": 35,
      "outputs": [
        {
          "output_type": "execute_result",
          "data": {
            "text/plain": [
              "array([[11,  7],\n",
              "       [25, 23]])"
            ]
          },
          "metadata": {},
          "execution_count": 35
        }
      ]
    },
    {
      "cell_type": "code",
      "source": [
        "np.all(A>1)"
      ],
      "metadata": {
        "colab": {
          "base_uri": "https://localhost:8080/"
        },
        "id": "pVApKc3-2Wao",
        "outputId": "ae5bc5aa-9a2c-4ca6-dd43-4c46ae1e1c03"
      },
      "execution_count": 36,
      "outputs": [
        {
          "output_type": "execute_result",
          "data": {
            "text/plain": [
              "False"
            ]
          },
          "metadata": {},
          "execution_count": 36
        }
      ]
    },
    {
      "cell_type": "code",
      "source": [
        "np.any(A>1)"
      ],
      "metadata": {
        "colab": {
          "base_uri": "https://localhost:8080/"
        },
        "id": "EJh67Yu33Mmb",
        "outputId": "db97f99c-a1d5-4e32-b9a2-1a465e4e5949"
      },
      "execution_count": 37,
      "outputs": [
        {
          "output_type": "execute_result",
          "data": {
            "text/plain": [
              "True"
            ]
          },
          "metadata": {},
          "execution_count": 37
        }
      ]
    },
    {
      "cell_type": "code",
      "source": [
        "A = np.array([1,2,3,4,5,6,7])\n",
        "B = A[A>3]\n",
        "print(A)"
      ],
      "metadata": {
        "colab": {
          "base_uri": "https://localhost:8080/"
        },
        "id": "j79rojVI3SBa",
        "outputId": "4087e686-7937-4324-aab8-2ec7a2e93959"
      },
      "execution_count": 39,
      "outputs": [
        {
          "output_type": "stream",
          "name": "stdout",
          "text": [
            "[1 2 3 4 5 6 7]\n"
          ]
        }
      ]
    },
    {
      "cell_type": "code",
      "source": [
        "print(B)"
      ],
      "metadata": {
        "colab": {
          "base_uri": "https://localhost:8080/"
        },
        "id": "i0irbBSA3WHV",
        "outputId": "89377e68-571c-4568-a902-e5c053556716"
      },
      "execution_count": 40,
      "outputs": [
        {
          "output_type": "stream",
          "name": "stdout",
          "text": [
            "[4 5 6 7]\n"
          ]
        }
      ]
    },
    {
      "cell_type": "code",
      "source": [
        "A = np.array([[2,1],[-4,3]])\n",
        "b = np.array([11,3])\n",
        "X = np.linalg.solve(A,b)\n",
        "print(X)"
      ],
      "metadata": {
        "colab": {
          "base_uri": "https://localhost:8080/"
        },
        "id": "0Dlt9x_E3ccU",
        "outputId": "07ab41c7-6827-4035-8d46-92c94d3b57cf"
      },
      "execution_count": 42,
      "outputs": [
        {
          "output_type": "stream",
          "name": "stdout",
          "text": [
            "[3. 5.]\n"
          ]
        }
      ]
    },
    {
      "cell_type": "code",
      "source": [
        "AA = np.linalg.inv(A)\n",
        "print(np.matmul(AA,b))"
      ],
      "metadata": {
        "colab": {
          "base_uri": "https://localhost:8080/"
        },
        "id": "sGnln_oVOD_Y",
        "outputId": "444d154b-292d-4519-c537-f78328f95b8e"
      },
      "execution_count": 44,
      "outputs": [
        {
          "output_type": "stream",
          "name": "stdout",
          "text": [
            "[3. 5.]\n"
          ]
        }
      ]
    },
    {
      "cell_type": "markdown",
      "source": [
        "Statistical Functions"
      ],
      "metadata": {
        "id": "znLtPiHfOnEW"
      }
    },
    {
      "cell_type": "code",
      "source": [
        "A = np.array([[1,2,3],[4,5,6]])\n",
        "np.sum(A)\n"
      ],
      "metadata": {
        "colab": {
          "base_uri": "https://localhost:8080/"
        },
        "id": "8g3yXUdROWTE",
        "outputId": "1ff6a49f-6077-4bbc-854b-b26f5353cd74"
      },
      "execution_count": 46,
      "outputs": [
        {
          "output_type": "execute_result",
          "data": {
            "text/plain": [
              "21"
            ]
          },
          "metadata": {},
          "execution_count": 46
        }
      ]
    },
    {
      "cell_type": "code",
      "source": [
        "np.sum(A,0) # column sums, summed along rows\n"
      ],
      "metadata": {
        "colab": {
          "base_uri": "https://localhost:8080/"
        },
        "id": "1h6ivDClOuwQ",
        "outputId": "108bf645-90c5-483a-ff10-9c8a60aa9776"
      },
      "execution_count": 47,
      "outputs": [
        {
          "output_type": "execute_result",
          "data": {
            "text/plain": [
              "array([5, 7, 9])"
            ]
          },
          "metadata": {},
          "execution_count": 47
        }
      ]
    },
    {
      "cell_type": "code",
      "source": [
        "np.sum(A,1) # row sums, summed along the columns"
      ],
      "metadata": {
        "colab": {
          "base_uri": "https://localhost:8080/"
        },
        "id": "37r5MX_FO-y0",
        "outputId": "4f27fc67-1598-4512-8ad8-18fceeb90880"
      },
      "execution_count": 48,
      "outputs": [
        {
          "output_type": "execute_result",
          "data": {
            "text/plain": [
              "array([ 6, 15])"
            ]
          },
          "metadata": {},
          "execution_count": 48
        }
      ]
    },
    {
      "cell_type": "code",
      "source": [
        "#The product is calculated similarly with the prod () command.\n",
        "\n",
        "np.prod(A)\n",
        "np.prod(A,0)\n",
        "np.prod(A,1)"
      ],
      "metadata": {
        "colab": {
          "base_uri": "https://localhost:8080/"
        },
        "id": "OkQS1C5VPBH5",
        "outputId": "2fa5ff9a-caa3-4de8-a246-14973a28bb56"
      },
      "execution_count": 49,
      "outputs": [
        {
          "output_type": "execute_result",
          "data": {
            "text/plain": [
              "array([  6, 120])"
            ]
          },
          "metadata": {},
          "execution_count": 49
        }
      ]
    },
    {
      "cell_type": "markdown",
      "source": [
        "Data Types"
      ],
      "metadata": {
        "id": "TKpuCkg2Pi4p"
      }
    },
    {
      "cell_type": "code",
      "source": [
        "A = np.array([1,2,3,4,5,6],dtype=\"int8\")\n",
        "A.dtype"
      ],
      "metadata": {
        "colab": {
          "base_uri": "https://localhost:8080/"
        },
        "id": "Zldf-W0TPl9U",
        "outputId": "f5eb62da-7496-4c42-a68d-dfb475f7e467"
      },
      "execution_count": 54,
      "outputs": [
        {
          "output_type": "execute_result",
          "data": {
            "text/plain": [
              "dtype('int8')"
            ]
          },
          "metadata": {},
          "execution_count": 54
        }
      ]
    },
    {
      "cell_type": "code",
      "source": [
        "A.itemsize"
      ],
      "metadata": {
        "colab": {
          "base_uri": "https://localhost:8080/"
        },
        "id": "U6VmPr20Suie",
        "outputId": "0e2681c9-00ae-4132-9c54-4d9e1e969771"
      },
      "execution_count": 56,
      "outputs": [
        {
          "output_type": "execute_result",
          "data": {
            "text/plain": [
              "1"
            ]
          },
          "metadata": {},
          "execution_count": 56
        }
      ]
    },
    {
      "cell_type": "code",
      "source": [
        "A.nbytes"
      ],
      "metadata": {
        "colab": {
          "base_uri": "https://localhost:8080/"
        },
        "id": "RFs0B9_KS1dC",
        "outputId": "11b881ed-24e4-47c2-9ac8-cbb2376cc1d9"
      },
      "execution_count": 57,
      "outputs": [
        {
          "output_type": "execute_result",
          "data": {
            "text/plain": [
              "6"
            ]
          },
          "metadata": {},
          "execution_count": 57
        }
      ]
    },
    {
      "cell_type": "code",
      "source": [
        "A = np.array([1,2,3,4,5,6],dtype=\"int64\")\n",
        "A.nbytes"
      ],
      "metadata": {
        "colab": {
          "base_uri": "https://localhost:8080/"
        },
        "id": "OFtgEHGhTRra",
        "outputId": "5bc4e745-7f6d-4d73-f3f7-4cc2fa4cea16"
      },
      "execution_count": 59,
      "outputs": [
        {
          "output_type": "execute_result",
          "data": {
            "text/plain": [
              "48"
            ]
          },
          "metadata": {},
          "execution_count": 59
        }
      ]
    },
    {
      "cell_type": "markdown",
      "source": [
        "int8\t-128...127\n",
        "\n",
        "int16\t-32768...32767\n",
        "\n",
        "int32\t-2147483648...2147483647\n",
        "\n",
        "int64\t-9223372036854775808...9223372036854775807\n",
        "\n",
        "uint8\t0...255\n",
        "\n",
        "uint16\t0...65535\n",
        "\n",
        "uint32\t0...4294967295\n",
        "\n",
        "uint64\t0...18446744073709551615"
      ],
      "metadata": {
        "id": "7nR2w_Q1TmAC"
      }
    },
    {
      "cell_type": "code",
      "source": [
        "print(str.format('{0:.2f}', 1/3))"
      ],
      "metadata": {
        "colab": {
          "base_uri": "https://localhost:8080/"
        },
        "id": "ii4xmEusTc-6",
        "outputId": "48a8ac7e-0ab7-44a5-9934-3ac552bcb8cd"
      },
      "execution_count": 62,
      "outputs": [
        {
          "output_type": "stream",
          "name": "stdout",
          "text": [
            "0.33\n"
          ]
        }
      ]
    },
    {
      "cell_type": "code",
      "source": [
        "0.1+0.1+0.1+0.1+0.1+0.1+0.1+0.1"
      ],
      "metadata": {
        "colab": {
          "base_uri": "https://localhost:8080/"
        },
        "id": "3_jNRQk8T4U4",
        "outputId": "e90b30fe-fcd0-4980-a14b-36c406c07424"
      },
      "execution_count": 63,
      "outputs": [
        {
          "output_type": "execute_result",
          "data": {
            "text/plain": [
              "0.7999999999999999"
            ]
          },
          "metadata": {},
          "execution_count": 63
        }
      ]
    },
    {
      "cell_type": "code",
      "source": [
        "print(str.format('{0:.10f}', 0.1))\n"
      ],
      "metadata": {
        "colab": {
          "base_uri": "https://localhost:8080/"
        },
        "id": "IkeXUae2T9La",
        "outputId": "1d93763a-3dee-481f-cdbc-099872238e9b"
      },
      "execution_count": 64,
      "outputs": [
        {
          "output_type": "stream",
          "name": "stdout",
          "text": [
            "0.1000000000\n"
          ]
        }
      ]
    },
    {
      "cell_type": "code",
      "source": [
        ""
      ],
      "metadata": {
        "id": "OtCHGTogUFcj"
      },
      "execution_count": null,
      "outputs": []
    }
  ]
}
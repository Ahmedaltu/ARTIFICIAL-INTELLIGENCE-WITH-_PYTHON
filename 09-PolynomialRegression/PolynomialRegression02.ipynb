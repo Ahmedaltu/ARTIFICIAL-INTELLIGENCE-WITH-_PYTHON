{
  "nbformat": 4,
  "nbformat_minor": 0,
  "metadata": {
    "colab": {
      "name": "PolynomialRegression02.ipynb",
      "provenance": []
    },
    "kernelspec": {
      "name": "python3",
      "display_name": "Python 3"
    },
    "language_info": {
      "name": "python"
    }
  },
  "cells": [
    {
      "cell_type": "code",
      "execution_count": 1,
      "metadata": {
        "id": "lu1uvpf7o3mY"
      },
      "outputs": [],
      "source": [
        "import numpy as np\n",
        "import matplotlib.pyplot as plt\n",
        "import pandas as pd\n",
        "from sklearn.linear_model import LinearRegression\n",
        "from sklearn.preprocessing import PolynomialFeatures"
      ]
    },
    {
      "cell_type": "code",
      "source": [
        "data_pd = pd.read_csv(\"quadreg_data.csv\",skiprows=0,names=[\"x\",\"y\"])\n",
        "print(data_pd)"
      ],
      "metadata": {
        "colab": {
          "base_uri": "https://localhost:8080/"
        },
        "id": "Xiq03Ym0o7nu",
        "outputId": "d002799c-a69f-4327-af13-793169121596"
      },
      "execution_count": 3,
      "outputs": [
        {
          "output_type": "stream",
          "name": "stdout",
          "text": [
            "           x         y\n",
            "0   0.020272  1.019713\n",
            "1  -0.982887  2.054166\n",
            "2  -0.827676  1.638951\n",
            "3   0.596325  1.287361\n",
            "4   0.289416  1.127568\n",
            "5  -0.429220  1.207155\n",
            "6  -0.879846  1.766583\n",
            "7   0.400010  1.140985\n",
            "8   0.935192  1.891297\n",
            "9  -0.357462  1.122835\n",
            "10  0.500480  1.327282\n",
            "11 -0.717307  1.520634\n",
            "12 -0.331321  1.121314\n",
            "13 -0.588117  1.299677\n",
            "14 -0.597805  1.358035\n",
            "15 -0.034671  1.014566\n",
            "16  0.235868  0.968986\n",
            "17 -0.626353  1.396471\n",
            "18  0.547891  1.312413\n",
            "19 -0.842669  1.714989\n",
            "20 -0.651469  1.441607\n",
            "21  0.835475  1.677351\n",
            "22  0.710989  1.464407\n",
            "23  0.386467  1.101665\n",
            "24 -0.346081  1.039018\n",
            "25 -0.014985  1.038561\n",
            "26 -0.777399  1.627514\n",
            "27  0.217702  1.031296\n",
            "28 -0.302979  1.115130\n",
            "29  0.747832  1.558129\n"
          ]
        }
      ]
    },
    {
      "cell_type": "code",
      "source": [
        "xpd = np.array(data_pd[[\"x\"]])\n",
        "ypd = np.array(data_pd[[\"y\"]])\n",
        "xpd = xpd.reshape(-1,1)\n",
        "ypd = ypd.reshape(-1,1)"
      ],
      "metadata": {
        "id": "GtZ3rhzzo_US"
      },
      "execution_count": 4,
      "outputs": []
    },
    {
      "cell_type": "code",
      "source": [
        "poly_reg = PolynomialFeatures(degree=2)\n",
        "X_poly = poly_reg.fit_transform(xpd)\n",
        "pol_reg = LinearRegression()\n",
        "pol_reg.fit(X_poly, ypd)"
      ],
      "metadata": {
        "colab": {
          "base_uri": "https://localhost:8080/"
        },
        "id": "2gJPoXQwpFt4",
        "outputId": "6dfa3db4-3556-4bab-dc82-8d1204366229"
      },
      "execution_count": 5,
      "outputs": [
        {
          "output_type": "execute_result",
          "data": {
            "text/plain": [
              "LinearRegression()"
            ]
          },
          "metadata": {},
          "execution_count": 5
        }
      ]
    },
    {
      "cell_type": "code",
      "source": [
        "plt.scatter(xpd, ypd, color='red')\n",
        "xval = np.linspace(-1,1,10).reshape(-1,1)\n",
        "plt.plot(xval, pol_reg.predict(poly_reg.fit_transform(xval)), color='blue')\n",
        "plt.show()"
      ],
      "metadata": {
        "colab": {
          "base_uri": "https://localhost:8080/",
          "height": 265
        },
        "id": "YVxTV0zypI6x",
        "outputId": "cb116e4f-52f2-4dbc-c618-d335125c9a93"
      },
      "execution_count": 6,
      "outputs": [
        {
          "output_type": "display_data",
          "data": {
            "text/plain": [
              "<Figure size 432x288 with 1 Axes>"
            ],
            "image/png": "[encoded data removed]"
          },
          "metadata": {
            "needs_background": "light"
          }
        }
      ]
    },
    {
      "cell_type": "code",
      "source": [
        "print(pol_reg.coef_)\n",
        "print(\"c=\",pol_reg.intercept_)"
      ],
      "metadata": {
        "colab": {
          "base_uri": "https://localhost:8080/"
        },
        "id": "4piJy0QYpMA4",
        "outputId": "d7e4b576-e144-47e7-ddb9-7c7557cc90ae"
      },
      "execution_count": 7,
      "outputs": [
        {
          "output_type": "stream",
          "name": "stdout",
          "text": [
            "[[ 0.         -0.01009154  1.01581228]]\n",
            "c= [0.99140532]\n"
          ]
        }
      ]
    },
    {
      "cell_type": "code",
      "source": [
        ""
      ],
      "metadata": {
        "id": "OahWWA5WpO3h"
      },
      "execution_count": null,
      "outputs": []
    }
  ]
}
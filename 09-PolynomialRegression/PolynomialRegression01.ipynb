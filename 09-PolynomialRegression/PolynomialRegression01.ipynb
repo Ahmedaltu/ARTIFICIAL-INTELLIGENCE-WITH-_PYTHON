{
  "nbformat": 4,
  "nbformat_minor": 0,
  "metadata": {
    "colab": {
      "name": "PolynomialRegression01.ipynb",
      "provenance": []
    },
    "kernelspec": {
      "name": "python3",
      "display_name": "Python 3"
    },
    "language_info": {
      "name": "python"
    }
  },
  "cells": [
    {
      "cell_type": "code",
      "execution_count": 1,
      "metadata": {
        "id": "YkGHJoTHnfln"
      },
      "outputs": [],
      "source": [
        "import numpy as np\n",
        "import matplotlib.pyplot as plt\n",
        "import pandas as pd\n"
      ]
    },
    {
      "cell_type": "code",
      "source": [
        "data_pd = pd.read_csv(\"quadreg_data.csv\",skiprows=0,names=[\"x\",\"y\"])\n",
        "print(data_pd)"
      ],
      "metadata": {
        "colab": {
          "base_uri": "https://localhost:8080/"
        },
        "id": "Rjrv27IVnmvk",
        "outputId": "d47290f1-53d4-4d1a-e16a-aa54a38f2a1d"
      },
      "execution_count": 2,
      "outputs": [
        {
          "output_type": "stream",
          "name": "stdout",
          "text": [
            "           x         y\n",
            "0   0.020272  1.019713\n",
            "1  -0.982887  2.054166\n",
            "2  -0.827676  1.638951\n",
            "3   0.596325  1.287361\n",
            "4   0.289416  1.127568\n",
            "5  -0.429220  1.207155\n",
            "6  -0.879846  1.766583\n",
            "7   0.400010  1.140985\n",
            "8   0.935192  1.891297\n",
            "9  -0.357462  1.122835\n",
            "10  0.500480  1.327282\n",
            "11 -0.717307  1.520634\n",
            "12 -0.331321  1.121314\n",
            "13 -0.588117  1.299677\n",
            "14 -0.597805  1.358035\n",
            "15 -0.034671  1.014566\n",
            "16  0.235868  0.968986\n",
            "17 -0.626353  1.396471\n",
            "18  0.547891  1.312413\n",
            "19 -0.842669  1.714989\n",
            "20 -0.651469  1.441607\n",
            "21  0.835475  1.677351\n",
            "22  0.710989  1.464407\n",
            "23  0.386467  1.101665\n",
            "24 -0.346081  1.039018\n",
            "25 -0.014985  1.038561\n",
            "26 -0.777399  1.627514\n",
            "27  0.217702  1.031296\n",
            "28 -0.302979  1.115130\n",
            "29  0.747832  1.558129\n"
          ]
        }
      ]
    },
    {
      "cell_type": "code",
      "source": [
        "xpd = np.array(data_pd[[\"x\"]])\n",
        "ypd = np.array(data_pd[[\"y\"]])\n",
        "n = xpd.size\n",
        "\n",
        "xbar = np.mean(xpd)\n",
        "ybar = np.mean(ypd)\n",
        "\n",
        "xpd = xpd.reshape((n,))\n",
        "ypd = ypd.reshape((n,))"
      ],
      "metadata": {
        "id": "W_iXxptNnvY4"
      },
      "execution_count": 3,
      "outputs": []
    },
    {
      "cell_type": "code",
      "source": [
        "xpd"
      ],
      "metadata": {
        "colab": {
          "base_uri": "https://localhost:8080/"
        },
        "id": "vfSBffAzn0OA",
        "outputId": "09048dba-072f-4ef2-bd12-4f37dbfccd91"
      },
      "execution_count": 4,
      "outputs": [
        {
          "output_type": "execute_result",
          "data": {
            "text/plain": [
              "array([ 0.020272, -0.982887, -0.827676,  0.596325,  0.289416, -0.42922 ,\n",
              "       -0.879846,  0.40001 ,  0.935192, -0.357462,  0.50048 , -0.717307,\n",
              "       -0.331321, -0.588117, -0.597805, -0.034671,  0.235868, -0.626353,\n",
              "        0.547891, -0.842669, -0.651469,  0.835475,  0.710989,  0.386467,\n",
              "       -0.346081, -0.014985, -0.777399,  0.217702, -0.302979,  0.747832])"
            ]
          },
          "metadata": {},
          "execution_count": 4
        }
      ]
    },
    {
      "cell_type": "code",
      "source": [
        "Sxx = np.sum(xpd**2)-n*xbar**2\n",
        "Sxy = np.dot(xpd,ypd)-n*xbar*ybar\n",
        "Sxx2 = np.sum(xpd**3)-xbar*np.sum(xpd**2)\n",
        "Sx2y = np.sum(xpd**2*(ypd))-ybar*np.sum(xpd**2)\n",
        "Sx2x2 = np.sum(xpd**4)-(np.sum(xpd**2)**2)/n"
      ],
      "metadata": {
        "id": "PK9dut2Ln29A"
      },
      "execution_count": 5,
      "outputs": []
    },
    {
      "cell_type": "code",
      "source": [
        "a = (Sx2y*Sxx-Sxy*Sxx2)/(Sxx*Sx2x2-Sxx2**2)\n",
        "b = (Sxy*Sx2x2-Sx2y*Sxx2)/(Sxx*Sx2x2-Sxx2**2)\n",
        "c = ybar-b*xbar-a*np.sum(xpd**2)/n"
      ],
      "metadata": {
        "id": "DGurds1gn6zc"
      },
      "execution_count": 6,
      "outputs": []
    },
    {
      "cell_type": "code",
      "source": [
        "print('a = ', a, ',b = ', b, ',c = ', c)"
      ],
      "metadata": {
        "colab": {
          "base_uri": "https://localhost:8080/"
        },
        "id": "Dd_D5hvFn9zy",
        "outputId": "d60dd31f-9178-43dc-8718-16a61ff4b3e7"
      },
      "execution_count": 8,
      "outputs": [
        {
          "output_type": "stream",
          "name": "stdout",
          "text": [
            "a =  1.0158122820554047 ,b =  -0.010091535235750352 ,c =  0.9914053214338694\n"
          ]
        }
      ]
    },
    {
      "cell_type": "code",
      "source": [
        "x = np.linspace(-1,1,100)\n",
        "y = a*x**2 + b*x +c\n",
        "plt.plot(x,y)\n",
        "plt.scatter(xpd,ypd,color=\"black\")\n",
        "plt.show()\n"
      ],
      "metadata": {
        "colab": {
          "base_uri": "https://localhost:8080/",
          "height": 265
        },
        "id": "G6T2vJejoIcu",
        "outputId": "ad6e6edf-f18a-49ad-beda-e2808b6641f3"
      },
      "execution_count": 9,
      "outputs": [
        {
          "output_type": "display_data",
          "data": {
            "text/plain": [
              "<Figure size 432x288 with 1 Axes>"
            ],
            "image/png": "[encoded data removed]"
          },
          "metadata": {
            "needs_background": "light"
          }
        }
      ]
    },
    {
      "cell_type": "markdown",
      "source": [
        "Evaluation"
      ],
      "metadata": {
        "id": "ij_NujWVofdp"
      }
    },
    {
      "cell_type": "code",
      "source": [
        "yhat = a*xpd**2 + b*xpd +c\n",
        "RMSE = np.sqrt(np.sum((ypd-yhat)**2)/n)\n",
        "print(RMSE)\n",
        "R2 = 1-np.sum((ypd-yhat)**2)/np.sum((ypd-ybar)**2)\n",
        "print(R2)"
      ],
      "metadata": {
        "colab": {
          "base_uri": "https://localhost:8080/"
        },
        "id": "b8pvmTRzoTvg",
        "outputId": "da1e9560-e679-4f35-aa5c-c780090eabc3"
      },
      "execution_count": 10,
      "outputs": [
        {
          "output_type": "stream",
          "name": "stdout",
          "text": [
            "0.0392126726862695\n",
            "0.9812766862658817\n"
          ]
        }
      ]
    },
    {
      "cell_type": "code",
      "source": [
        ""
      ],
      "metadata": {
        "id": "bKmNoIQYod4W"
      },
      "execution_count": null,
      "outputs": []
    }
  ]
}